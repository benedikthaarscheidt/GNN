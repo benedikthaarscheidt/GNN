{
 "cells": [
  {
   "cell_type": "code",
   "execution_count": 2,
   "id": "bab2f0c6-2995-48eb-b89b-bd03966e283e",
   "metadata": {},
   "outputs": [],
   "source": [
    "import pandas as pd\n",
    "import numpy as np\n",
    "import torch\n",
    "import os\n",
    "import scripts\n",
    "from functools import lru_cache\n",
    "import networkx as nx\n",
    "from torch_geometric.utils import from_networkx\n",
    "from torch_geometric.data import Data\n",
    "import matplotlib.pyplot as plt\n",
    "pd.set_option('display.max_rows', None)  # Set a higher number if needed\n",
    "pd.set_option('display.max_columns', None)\n"
   ]
  },
  {
   "cell_type": "code",
   "execution_count": null,
   "id": "787edce6-188c-4108-a283-8c8ef2e1c3ac",
   "metadata": {},
   "outputs": [],
   "source": [
    "annotated1=pd.read_csv(\"/work/haarscheid/cancer_baseline2/cancer_baseline/output/annotated_matrices/annotated_attention_all_attention_instance_127.csv\")\n",
    "\n",
    "\n",
    "\n",
    "\n",
    "                       "
   ]
  },
  {
   "cell_type": "code",
   "execution_count": 3,
   "id": "45597aaa-0d51-486e-8562-c1c5f559eea4",
   "metadata": {},
   "outputs": [],
   "source": [
    "if 'flag' not in globals():\n",
    "    flag = False"
   ]
  },
  {
   "cell_type": "code",
   "execution_count": null,
   "id": "1026b43b-d131-4241-808f-e0a35c961ad1",
   "metadata": {},
   "outputs": [],
   "source": [
    "if not flag:\n",
    "    p\n",
    "    # Convert filtered RNA data to tensor format\n",
    "    tensor_exp = torch.Tensor(filtered_rna.to_numpy())\n",
    "    cell_dict = {cell: tensor_exp[i] for i, cell in enumerate(filtered_rna.index.to_numpy())}\n",
    "\n",
    "    # Load and filter drug response data\n",
    "    data = pd.read_csv(\"data/GDSC1.csv\", index_col=0)\n",
    "    data = data.query(\"SANGER_MODEL_ID in @cell_dict.keys()\")\n",
    "    unique_cell_lines = data.loc[:, \"SANGER_MODEL_ID\"].unique()\n",
    "\n",
    "    # Set the flag to prevent reloading\n",
    "    flag = True\n",
    "else:\n",
    "    print(\"Data already loaded, skipping.\")"
   ]
  },
  {
   "cell_type": "code",
   "execution_count": 5,
   "id": "4918bb98-6f8f-4ca4-9477-44867e27e246",
   "metadata": {},
   "outputs": [
    {
     "name": "stdout",
     "output_type": "stream",
     "text": [
      "(763, 763)\n",
      "(739, 739)\n"
     ]
    }
   ],
   "source": [
    "edge_weights_attention=\"/work/haarscheid/cancer_baseline2/cancer_baseline/output/annotated_matrices/mean/annotated_attention_all_attention_instance_20.csv\"\n",
    "attention_df = pd.read_csv(edge_weights_attention,index_col=0)\n",
    "\n",
    "print(attention_df.shape)\n",
    "\n",
    "\n",
    "attention_df = attention_df[~attention_df.index.str.startswith(\"ENSG\")]\n",
    "attention_df = attention_df.loc[:, ~attention_df.columns.str.startswith(\"ENSG\")]\n",
    "print(attention_df.shape)\n",
    "filtered_gene_list = filtered_rna.columns.tolist()\n",
    "\n",
    "\n"
   ]
  },
  {
   "cell_type": "code",
   "execution_count": 6,
   "id": "0879e998-5475-4b46-bf86-9093d6a616e3",
   "metadata": {
    "scrolled": true
   },
   "outputs": [
    {
     "name": "stdout",
     "output_type": "stream",
     "text": [
      "Expanded attention matrix with zero-filled rows and columns:\n",
      "(777, 777)\n"
     ]
    }
   ],
   "source": [
    "# Assuming `filtered_rna` and `attention_df` are already defined\n",
    "full_gene_list = filtered_rna.columns.tolist()\n",
    "\n",
    "# Create an empty DataFrame filled with zeros, with the same structure as needed\n",
    "expanded_attention_matrix = pd.DataFrame(\n",
    "    0.0,  # Fill with zeros initially\n",
    "    index=full_gene_list,\n",
    "    columns=full_gene_list\n",
    ")\n",
    "\n",
    "# Copy over data from `attention_df` to the new expanded DataFrame\n",
    "# Ensure that `attention_df` has both rows and columns in `full_gene_list`\n",
    "common_genes = attention_df.index.intersection(full_gene_list)\n",
    "\n",
    "# Vectorized assignment for improved performance\n",
    "expanded_attention_matrix.loc[common_genes, full_gene_list] = attention_df.loc[common_genes, :]\n",
    "expanded_attention_matrix.loc[full_gene_list, common_genes] = attention_df.loc[:, common_genes]\n",
    "\n",
    "# Convert the expanded attention matrix to a PyTorch tensor\n",
    "edge_weights = torch.tensor(expanded_attention_matrix.values, dtype=torch.float)\n",
    "\n",
    "# Print the new attention matrix to check the structure\n",
    "print(\"Expanded attention matrix with zero-filled rows and columns:\")\n",
    "#display(expanded_attention_matrix)\n",
    "print(expanded_attention_matrix.shape)"
   ]
  },
  {
   "cell_type": "code",
   "execution_count": 7,
   "id": "e72193cd-8d8d-43da-a115-c3de826b9082",
   "metadata": {},
   "outputs": [
    {
     "name": "stderr",
     "output_type": "stream",
     "text": [
      "/tmp/ipykernel_2040686/907805343.py:5: UserWarning: To copy construct from a tensor, it is recommended to use sourceTensor.clone().detach() or sourceTensor.clone().detach().requires_grad_(True), rather than torch.tensor(sourceTensor).\n",
      "  node_weights = torch.tensor(instance, dtype=torch.float)\n"
     ]
    },
    {
     "data": {
      "text/plain": [
       "777"
      ]
     },
     "execution_count": 7,
     "metadata": {},
     "output_type": "execute_result"
    }
   ],
   "source": [
    "\n",
    "for idx, key in enumerate(cell_dict.keys()):\n",
    "    if idx == 0:  # Only process the first key\n",
    "        instance = cell_dict[key]\n",
    "        break\n",
    "node_weights = torch.tensor(instance, dtype=torch.float)\n",
    "len(node_weights)\n",
    "\n"
   ]
  },
  {
   "cell_type": "code",
   "execution_count": 8,
   "id": "480d94a5-a17b-47f9-9092-53f65be3eb79",
   "metadata": {},
   "outputs": [
    {
     "name": "stdout",
     "output_type": "stream",
     "text": [
      "Constructed Graph Data Object:\n",
      "Data(x=[777, 1], edge_index=[2, 602285], edge_attr=[602285])\n"
     ]
    }
   ],
   "source": [
    "# Convert the `attention_df` to a tensor if not already done\n",
    "adjacency_matrix = torch.tensor(expanded_attention_matrix.to_numpy(), dtype=torch.float)\n",
    "\n",
    "# Extract the indices of non-zero entries (i.e., existing directed edges)\n",
    "row_indices, col_indices = torch.nonzero(adjacency_matrix, as_tuple=True)\n",
    "edge_indices = torch.stack([row_indices, col_indices], dim=0)  # Shape: [2, num_edges]\n",
    "\n",
    "# Extract the actual weights of these edges\n",
    "edge_attr = adjacency_matrix[row_indices, col_indices]  # Shape: [num_edges]\n",
    "\n",
    "# Ensure `node_weights` is defined; create it as all ones if node features are not specified\n",
    "node_weights = torch.ones((adjacency_matrix.size(0), 1), dtype=torch.float)  # Shape: [num_nodes, num_node_features]\n",
    "\n",
    "# Create the PyTorch Geometric Data object\n",
    "graph_data = Data(x=node_weights, edge_index=edge_indices, edge_attr=edge_attr)\n",
    "\n",
    "# Print the graph data to check the setup\n",
    "print(\"Constructed Graph Data Object:\")\n",
    "print(graph_data)"
   ]
  },
  {
   "cell_type": "code",
   "execution_count": 17,
   "id": "0c01e310-b049-46c5-b372-a0603d294fb3",
   "metadata": {},
   "outputs": [
    {
     "name": "stdout",
     "output_type": "stream",
     "text": [
      "Index(['ABCB1', 'ABI1', 'ABL1', 'ABL2', 'ACKR3', 'ACSL3', 'ACVR1', 'ACVR2A',\n",
      "       'AFDN', 'AFF1',\n",
      "       ...\n",
      "       'ZNF429', 'ZNF521', 'ZNF626', 'ZNF680', 'ZNF721', 'ZNF780A', 'ZNF814',\n",
      "       'ZNRF3', 'ZRSR2', 'ZXDB'],\n",
      "      dtype='object', name='Unnamed: 1', length=777)\n"
     ]
    }
   ],
   "source": [
    "print(filtered_rna.columns)"
   ]
  },
  {
   "cell_type": "code",
   "execution_count": null,
   "id": "29a195be-2bcb-4ca9-b0bd-c27bfeebba12",
   "metadata": {},
   "outputs": [],
   "source": []
  },
  {
   "cell_type": "code",
   "execution_count": null,
   "id": "1282495f-c9e6-4ceb-89db-b049adad320b",
   "metadata": {},
   "outputs": [],
   "source": []
  },
  {
   "cell_type": "code",
   "execution_count": null,
   "id": "a30952a7-afe2-4ea0-b121-be4688f9b1f9",
   "metadata": {},
   "outputs": [],
   "source": []
  },
  {
   "cell_type": "code",
   "execution_count": null,
   "id": "2760a6c6-e86e-468d-9810-0354deb9c3b0",
   "metadata": {},
   "outputs": [],
   "source": []
  },
  {
   "cell_type": "code",
   "execution_count": null,
   "id": "b7ade9cf-8165-4e6d-adb2-5b0f0b857638",
   "metadata": {},
   "outputs": [],
   "source": []
  },
  {
   "cell_type": "code",
   "execution_count": null,
   "id": "af208872-087e-4792-97ed-95e0c87b1127",
   "metadata": {},
   "outputs": [],
   "source": []
  },
  {
   "cell_type": "code",
   "execution_count": null,
   "id": "34cb2cd2-bb67-448c-9483-130c33b2bbd2",
   "metadata": {},
   "outputs": [],
   "source": []
  },
  {
   "cell_type": "code",
   "execution_count": null,
   "id": "e8f6bc94-0569-4b9b-a78f-bfae7d3f162c",
   "metadata": {},
   "outputs": [],
   "source": []
  },
  {
   "cell_type": "code",
   "execution_count": null,
   "id": "d5e48c59-096b-455c-865a-3666b17bbcda",
   "metadata": {},
   "outputs": [],
   "source": []
  },
  {
   "cell_type": "code",
   "execution_count": null,
   "id": "a7c5b579-cbc5-4443-9f03-a6fc4f1cfe59",
   "metadata": {},
   "outputs": [],
   "source": []
  },
  {
   "cell_type": "code",
   "execution_count": null,
   "id": "933a8a53-0289-4fbe-aa9c-2e665b9dc889",
   "metadata": {},
   "outputs": [],
   "source": []
  },
  {
   "cell_type": "code",
   "execution_count": null,
   "id": "e5623829-8d19-4ce4-9551-09b5fd011887",
   "metadata": {},
   "outputs": [],
   "source": []
  },
  {
   "cell_type": "code",
   "execution_count": null,
   "id": "f2239232-ed4d-4896-a899-25946658426b",
   "metadata": {},
   "outputs": [],
   "source": []
  },
  {
   "cell_type": "code",
   "execution_count": null,
   "id": "4df881ca-628d-4e1e-a0eb-9590090af830",
   "metadata": {},
   "outputs": [],
   "source": []
  },
  {
   "cell_type": "code",
   "execution_count": null,
   "id": "dfda1290-67a6-40f4-95ec-14a35b89ea59",
   "metadata": {},
   "outputs": [],
   "source": []
  },
  {
   "cell_type": "code",
   "execution_count": null,
   "id": "2f3c9496-350e-41f0-843b-be1401903922",
   "metadata": {},
   "outputs": [],
   "source": []
  }
 ],
 "metadata": {
  "kernelspec": {
   "display_name": "GNN2",
   "language": "python",
   "name": "gnn2"
  },
  "language_info": {
   "codemirror_mode": {
    "name": "ipython",
    "version": 3
   },
   "file_extension": ".py",
   "mimetype": "text/x-python",
   "name": "python",
   "nbconvert_exporter": "python",
   "pygments_lexer": "ipython3",
   "version": "3.12.7"
  }
 },
 "nbformat": 4,
 "nbformat_minor": 5
}
