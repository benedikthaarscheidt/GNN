{
 "cells": [
  {
   "cell_type": "code",
   "execution_count": 23,
   "id": "28ef7cdb-7fdf-4a76-b46f-c742b0bcb014",
   "metadata": {},
   "outputs": [],
   "source": [
    "from functools import lru_cache\n",
    "import pandas as pd\n",
    "import numpy as np\n",
    "import torch\n",
    "from torch_geometric.data import Data\n",
    "import networkx as nx\n",
    "from sklearn.model_selection import train_test_split\n"
   ]
  },
  {
   "cell_type": "code",
   "execution_count": 28,
   "id": "d3375c36-291a-4d3e-9559-df17fcab9b03",
   "metadata": {},
   "outputs": [],
   "source": [
    "from functools import lru_cache\n",
    "import pandas as pd\n",
    "import numpy as np\n",
    "import torch\n",
    "from torch_geometric.data import Data\n",
    "import networkx as nx\n",
    "\n",
    "\n",
    "@lru_cache(maxsize=None)\n",
    "def get_data(n_fold=0, fp_radius=2):\n",
    "    # Load driver genes and hierarchies\n",
    "    hierarchies = pd.read_csv(\"/work/haarscheid/cancer_baseline2/cancer_baseline/Graphs/data/gene_to_pathway_final_with_hierarchy.csv\")\n",
    "    driver_genes = pd.read_csv(\"/work/haarscheid/cancer_baseline2/cancer_baseline/Graphs/data/driver_genes_2.csv\")\n",
    "    rnaseq = pd.read_csv(\"/work/haarscheid/cancer_baseline2/cancer_baseline/Graphs/data/rnaseq_normcount.csv\", index_col=0)\n",
    "\n",
    "    # Filter RNA-seq data for driver genes\n",
    "    driver_columns = rnaseq.columns.isin(hierarchies[\"HGNC\"])\n",
    "    filtered_rna = rnaseq.loc[:, driver_columns]\n",
    "    tensor_exp = torch.Tensor(filtered_rna.to_numpy())\n",
    "\n",
    "    # Create a dictionary mapping cell lines to their expression tensors\n",
    "    cell_dict = {cell: tensor_exp[i] for i, cell in enumerate(filtered_rna.index.to_numpy())}\n",
    "\n",
    "    # Get the set of valid nodes (columns in filtered RNA)\n",
    "    valid_nodes = set(filtered_rna.columns)\n",
    "\n",
    "    # Load the Gene Regulatory Network (GRN)\n",
    "    GRN = nx.read_edgelist(\n",
    "        \"/work/haarscheid/cancer_baseline2/cancer_baseline/Graphs/data/filtered_gene_network.edgelist\"\n",
    "    )\n",
    "\n",
    "    # Filter edges based on valid nodes\n",
    "    filtered_edges = [(u, v) for u, v in GRN.edges if u in valid_nodes and v in valid_nodes]\n",
    "    edge_index = torch.tensor(filtered_edges, dtype=torch.long).T  # Convert to PyTorch edge_index format\n",
    "\n",
    "    # Create PyTorch Geometric Data objects for each cell line\n",
    "    graph_data_list = []\n",
    "    for cell, x in cell_dict.items():\n",
    "        graph_data = Data(x=x.unsqueeze(0), edge_index=edge_index)  # Create Data object\n",
    "        graph_data.y = None  # Placeholder for labels (add when necessary)\n",
    "        graph_data.cell_line = cell  # Store cell line identifier\n",
    "        graph_data_list.append(graph_data)\n",
    "\n",
    "    # Load drug response data and filter missing cell lines\n",
    "    data = pd.read_csv(\"/work/haarscheid/cancer_baseline2/cancer_baseline/Graphs/data/GDSC1.csv\", index_col=0)\n",
    "    data = data.query(\"SANGER_MODEL_ID in @cell_dict.keys()\")\n",
    "\n",
    "    # Split cell lines into folds for training/validation/testing\n",
    "    unique_cell_lines = data[\"SANGER_MODEL_ID\"].unique()\n",
    "    np.random.seed(420)  # Ensure reproducibility\n",
    "    np.random.shuffle(unique_cell_lines)\n",
    "    folds = np.array_split(unique_cell_lines, 10)\n",
    "    test_lines = folds[n_fold]\n",
    "    train_idxs = list(range(10))\n",
    "    train_idxs.remove(n_fold)\n",
    "    validation_idx = np.random.choice(train_idxs)\n",
    "    train_idxs.remove(validation_idx)\n",
    "    train_lines = np.concatenate([folds[idx] for idx in train_idxs])\n",
    "    validation_lines = folds[validation_idx]\n",
    "    test_lines = folds[n_fold]\n",
    "\n",
    "    # Split the drug response data\n",
    "    train_data = data.query(\"SANGER_MODEL_ID in @train_lines\")\n",
    "    validation_data = data.query(\"SANGER_MODEL_ID in @validation_lines\")\n",
    "    test_data = data.query(\"SANGER_MODEL_ID in @test_lines\")\n",
    "\n",
    "    # Create datasets for training, validation, and testing\n",
    "    train_graphs = [graph for graph in graph_data_list if graph.cell_line in train_lines]\n",
    "    val_graphs = [graph for graph in graph_data_list if graph.cell_line in validation_lines]\n",
    "    test_graphs = [graph for graph in graph_data_list if graph.cell_line in test_lines]\n",
    "\n",
    "    return train_graphs, val_graphs, test_graphs\n"
   ]
  },
  {
   "cell_type": "code",
   "execution_count": 29,
   "id": "b6194c2e-e218-4089-931e-0208470ee7b9",
   "metadata": {},
   "outputs": [
    {
     "name": "stderr",
     "output_type": "stream",
     "text": [
      "/tmp/ipykernel_1567472/2114117392.py:34: UserWarning: The use of `x.T` on tensors of dimension other than 2 to reverse their shape is deprecated and it will throw an error in a future release. Consider `x.mT` to transpose batches of matrices or `x.permute(*torch.arange(x.ndim - 1, -1, -1))` to reverse the dimensions of a tensor. (Triggered internally at ../aten/src/ATen/native/TensorShape.cpp:3683.)\n",
      "  edge_index = torch.tensor(filtered_edges, dtype=torch.long).T  # Convert to PyTorch edge_index format\n"
     ]
    }
   ],
   "source": [
    "\n",
    "train_graphs, val_graphs, test_graphs = get_data(n_fold=0)\n",
    "\n"
   ]
  },
  {
   "cell_type": "code",
   "execution_count": null,
   "id": "5fb5de72-98ee-45d3-aa89-656d43a71ba9",
   "metadata": {},
   "outputs": [],
   "source": []
  }
 ],
 "metadata": {
  "kernelspec": {
   "display_name": "GNN2",
   "language": "python",
   "name": "gnn2"
  },
  "language_info": {
   "codemirror_mode": {
    "name": "ipython",
    "version": 3
   },
   "file_extension": ".py",
   "mimetype": "text/x-python",
   "name": "python",
   "nbconvert_exporter": "python",
   "pygments_lexer": "ipython3",
   "version": "3.12.7"
  }
 },
 "nbformat": 4,
 "nbformat_minor": 5
}
