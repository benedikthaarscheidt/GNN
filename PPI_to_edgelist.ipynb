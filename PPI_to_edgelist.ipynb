{
 "cells": [
  {
   "cell_type": "code",
   "execution_count": 1,
   "id": "0c1be5fc-2366-46ab-8ee4-14d50375f18a",
   "metadata": {},
   "outputs": [],
   "source": [
    "import pandas as pd\n",
    "import networkx as nx\n",
    "from collections import defaultdict\n",
    "\n",
    "\n",
    "#pd.set_option('display.max_rows', None)  # Display all rows\n",
    "#pd.set_option('display.max_columns', None)  \n",
    "#"
   ]
  },
  {
   "cell_type": "code",
   "execution_count": 2,
   "id": "c4ac9043-b1b4-4984-9cfd-d785c646167d",
   "metadata": {},
   "outputs": [
    {
     "name": "stderr",
     "output_type": "stream",
     "text": [
      "/tmp/ipykernel_17648/641882990.py:2: DtypeWarning: Columns (2) have mixed types. Specify dtype option on import or set low_memory=False.\n",
      "  ppi_data = pd.read_csv(\n"
     ]
    },
    {
     "name": "stdout",
     "output_type": "stream",
     "text": [
      "                 protein1         protein2  combined_score\n",
      "0                protein1         protein2             NaN\n",
      "1         ENSP00000000233  ENSP00000356607           173.0\n",
      "2         ENSP00000000233  ENSP00000427567           154.0\n",
      "3         ENSP00000000233  ENSP00000253413           151.0\n",
      "4         ENSP00000000233  ENSP00000493357           471.0\n",
      "...                   ...              ...             ...\n",
      "13715400  ENSP00000501317  ENSP00000475489           195.0\n",
      "13715401  ENSP00000501317  ENSP00000370447           158.0\n",
      "13715402  ENSP00000501317  ENSP00000312272           226.0\n",
      "13715403  ENSP00000501317  ENSP00000402092           169.0\n",
      "13715404  ENSP00000501317  ENSP00000404074           251.0\n",
      "\n",
      "[13715405 rows x 3 columns]\n"
     ]
    }
   ],
   "source": [
    "# Load the data\n",
    "ppi_data = pd.read_csv(\n",
    "    r\"/work/haarscheid/cancer_baseline2/cancer_baseline/data/PPI_homo_sapiens.txt\",\n",
    "    delimiter=' ',  # Adjust to ',' or ' ' if needed\n",
    "    names=['protein1', 'protein2', 'combined_score']  # Use this if the file doesn't have headers\n",
    ")\n",
    "\n",
    "ppi_data['protein1'] = ppi_data['protein1'].str.replace(r'^\\d+\\.', '', regex=True)\n",
    "ppi_data['protein2'] = ppi_data['protein2'].str.replace(r'^\\d+\\.', '', regex=True)\n",
    "ppi_data['combined_score'] = pd.to_numeric(ppi_data['combined_score'], errors='coerce')\n",
    "\n",
    "mapping_data = pd.read_csv(r'/work/haarscheid/cancer_baseline2/cancer_baseline/data/ensembl_to_protein_mapping.csv')\n",
    "\n",
    "\n",
    "\n"
   ]
  },
  {
   "cell_type": "code",
   "execution_count": null,
   "id": "af5bfed4-3c7f-46a4-86f3-9632c1972974",
   "metadata": {},
   "outputs": [],
   "source": [
    "valid_proteins = set(mapping_data['Protein stable ID'])\n",
    "\n",
    "print(valid_proteins)\n",
    "ppi_data_filtered = ppi_data[\n",
    "    (ppi_data['protein1'].isin(valid_proteins)) & \n",
    "    (ppi_data['protein2'].isin(valid_proteins))\n",
    "]\n",
    "print(ppi_data_filtered)"
   ]
  },
  {
   "cell_type": "code",
   "execution_count": 4,
   "id": "9df418e7-b090-4195-8f23-c012cd8a506a",
   "metadata": {},
   "outputs": [],
   "source": [
    "protein_to_gene = dict(zip(mapping_data['Protein stable ID'], mapping_data['Gene stable ID']))\n",
    "# Initialize gene-gene and self-loop interaction storage\n",
    "gene_interactions = defaultdict(list)\n",
    "self_loops = defaultdict(list)\n"
   ]
  },
  {
   "cell_type": "code",
   "execution_count": null,
   "id": "bed12432-f795-467a-9a98-f51cb3d2edfd",
   "metadata": {},
   "outputs": [],
   "source": []
  },
  {
   "cell_type": "code",
   "execution_count": 6,
   "id": "c8e128c1-058a-4d52-ae89-e39a641aeece",
   "metadata": {},
   "outputs": [],
   "source": [
    "\n",
    "# Process the filtered PPI data\n",
    "for _, row in ppi_data_filtered.iterrows():\n",
    "    protein_a, protein_b, strength = row['protein1'], row['protein2'], row['combined_score']\n",
    "    \n",
    "    # Map proteins to genes\n",
    "    gene_a = protein_to_gene.get(protein_a)\n",
    "    gene_b = protein_to_gene.get(protein_b)\n",
    "    \n",
    "    if gene_a and gene_b:\n",
    "        if gene_a == gene_b:\n",
    "            # Handle self-loop: same gene for both proteins\n",
    "            self_loops[gene_a].append(strength)\n",
    "        else:\n",
    "            # Ensure consistent ordering of gene pairs (to avoid duplicate edges)\n",
    "            if gene_a > gene_b:\n",
    "                gene_a, gene_b = gene_b, gene_a\n",
    "            # Add interaction strength to the gene pair\n",
    "            gene_interactions[(gene_a, gene_b)].append(strength)\n",
    "\n",
    "# Construct the gene network\n",
    "gene_network = nx.Graph()\n",
    "\n",
    "# Add edges for inter-gene interactions\n",
    "for (gene_a, gene_b), strengths in gene_interactions.items():\n",
    "    # Compute average strength for overlapping edges\n",
    "    average_strength = sum(strengths) / len(strengths)\n",
    "    gene_network.add_edge(gene_a, gene_b, weight=average_strength)\n",
    "\n",
    "# Add self-loops\n",
    "for gene, strengths in self_loops.items():\n",
    "    # Compute average strength for self-loops\n",
    "    average_strength = sum(strengths) / len(strengths)\n",
    "    gene_network.add_edge(gene, gene, weight=average_strength)\n",
    "\n",
    "# Save the graph\n",
    "nx.write_edgelist(\n",
    "    gene_network,\n",
    "    r\"/work/haarscheid/cancer_baseline2/cancer_baseline/data/gene_network_with_self_loops.edgelist\",\n",
    "    data=[\"weight\"]\n",
    ")\n",
    "\n",
    "# Optional: visualize the graph\n",
    "# import matplotlib.pyplot as plt\n",
    "# pos = nx.spring_layout(gene_network)\n",
    "# weights = nx.get_edge_attributes(gene_network, 'weight')\n",
    "# nx.draw(gene_network, pos, with_labels=True, node_size=500, font_size=10)\n",
    "# nx.draw_networkx_edge_labels(gene_network, pos, edge_labels=weights)\n",
    "# plt.show()\n"
   ]
  },
  {
   "cell_type": "code",
   "execution_count": 2,
   "id": "bd7ef7f2-25ae-4116-a11e-a61a54c47811",
   "metadata": {},
   "outputs": [],
   "source": [
    "edge_list_path = r\"/work/haarscheid/cancer_baseline2/cancer_baseline/data/gene_network_with_self_loops.edgelist\"\n",
    "gene_network = nx.read_edgelist(edge_list_path, nodetype=str)"
   ]
  },
  {
   "cell_type": "code",
   "execution_count": null,
   "id": "c2739aef-ab2a-4872-9942-4a2ad345951b",
   "metadata": {},
   "outputs": [],
   "source": []
  },
  {
   "cell_type": "code",
   "execution_count": null,
   "id": "02dd3c8f-e087-41a3-9a23-26ed7ef28022",
   "metadata": {},
   "outputs": [],
   "source": []
  },
  {
   "cell_type": "code",
   "execution_count": 7,
   "id": "6ea7204f-685e-496d-b7be-96233ba2c38f",
   "metadata": {},
   "outputs": [
    {
     "name": "stdout",
     "output_type": "stream",
     "text": [
      "[('ENSG00000003056', 'ENSG00000257335'), ('ENSG00000003056', 'ENSG00000029725'), ('ENSG00000003056', 'ENSG00000131238'), ('ENSG00000003056', 'ENSG00000104112'), ('ENSG00000003056', 'ENSG00000143457')]\n"
     ]
    }
   ],
   "source": [
    "print(list(gene_network.edges)[:5])"
   ]
  },
  {
   "cell_type": "code",
   "execution_count": 16,
   "id": "9e15bc53-5b5b-47f9-adcb-076b46d9f736",
   "metadata": {},
   "outputs": [
    {
     "name": "stdout",
     "output_type": "stream",
     "text": [
      "Mean edge weight: 269.20197769767367\n",
      "Number of edges after filtering: 416057\n"
     ]
    }
   ],
   "source": [
    "# Compute the mean edge weight\n",
    "edge_weights = [attr['weight'] for _, _, attr in gene_network.edges(data=True)]\n",
    "mean_weight = sum(edge_weights) / len(edge_weights)\n",
    "\n",
    "print(f\"Mean edge weight: {mean_weight}\")\n",
    "\n",
    "# Remove edges below the mean weight\n",
    "edges_to_remove = [(u, v) for u, v, attr in gene_network.edges(data=True) if attr['weight'] < mean_weight]\n",
    "gene_network.remove_edges_from(edges_to_remove)\n",
    "\n",
    "# Print the updated graph info\n",
    "print(f\"Number of edges after filtering: {gene_network.number_of_edges()}\")\n",
    "\n",
    "# Optionally save the filtered graph\n",
    "nx.write_edgelist(gene_network, r\"/work/haarscheid/cancer_baseline2/cancer_baseline/data/filtered_gene_network.edgelist\")\n",
    "\n",
    "\n",
    "\n",
    "\n",
    "\n",
    "\n",
    "\n",
    "\n",
    "\n",
    "\n",
    "\n",
    "\n",
    "\n",
    "\n"
   ]
  },
  {
   "cell_type": "code",
   "execution_count": null,
   "id": "00009e9b-7880-4648-a0a3-3e33a53a63c4",
   "metadata": {},
   "outputs": [],
   "source": [
    "import matplotlib.pyplot as plt\n",
    "pos = nx.spring_layout(edge_list)\n",
    "weights = nx.get_edge_attributes(edge_list, 'weight')\n",
    "nx.draw(gene_network, pos, with_labels=True, node_size=500, font_size=10)\n",
    "nx.draw_networkx_edge_labels(edge_list, pos, edge_labels=weights)\n",
    "plt.show()"
   ]
  },
  {
   "cell_type": "code",
   "execution_count": null,
   "id": "3d943f57-999f-4796-8775-89be39c74636",
   "metadata": {},
   "outputs": [],
   "source": []
  }
 ],
 "metadata": {
  "kernelspec": {
   "display_name": "GNN2",
   "language": "python",
   "name": "gnn2"
  },
  "language_info": {
   "codemirror_mode": {
    "name": "ipython",
    "version": 3
   },
   "file_extension": ".py",
   "mimetype": "text/x-python",
   "name": "python",
   "nbconvert_exporter": "python",
   "pygments_lexer": "ipython3",
   "version": "3.12.7"
  }
 },
 "nbformat": 4,
 "nbformat_minor": 5
}
